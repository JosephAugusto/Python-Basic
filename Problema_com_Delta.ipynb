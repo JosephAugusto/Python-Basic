{
  "nbformat": 4,
  "nbformat_minor": 0,
  "metadata": {
    "colab": {
      "name": "Problema com Delta.ipynb",
      "provenance": [],
      "collapsed_sections": [],
      "authorship_tag": "ABX9TyPM00+FkbWA85jBHqjR6f5D",
      "include_colab_link": true
    },
    "kernelspec": {
      "name": "python3",
      "display_name": "Python 3"
    },
    "language_info": {
      "name": "python"
    }
  },
  "cells": [
    {
      "cell_type": "markdown",
      "metadata": {
        "id": "view-in-github",
        "colab_type": "text"
      },
      "source": [
        "<a href=\"https://colab.research.google.com/github/JosephAugusto/Python-Basic/blob/main/Problema_com_Delta.ipynb\" target=\"_parent\"><img src=\"https://colab.research.google.com/assets/colab-badge.svg\" alt=\"Open In Colab\"/></a>"
      ]
    },
    {
      "cell_type": "markdown",
      "metadata": {
        "id": "s9HIF0eMaMqt"
      },
      "source": [
        "\n",
        "Calculo do Delta\n"
      ]
    },
    {
      "cell_type": "code",
      "metadata": {
        "id": "l8GGHrVkRakS",
        "colab": {
          "base_uri": "https://localhost:8080/"
        },
        "outputId": "c30d303d-a3ea-4763-eae7-3aea02c6212b"
      },
      "source": [
        "a = float(input(\"Digite o valor de A: \"))\n",
        "b = float(input(\"Digite o valor de B: \"))\n",
        "c = float(input(\"Digite o valor de C: \"))\n",
        "\n",
        "print(f\"o problema que você quer resolver é : {a}x² + {b}x + {c} = 0\")\n",
        "\n",
        "delta = b * b - 4 * a * c\n",
        "print(f\"Delta é igual a: {delta:.3f}\")\n",
        "\n",
        "if delta > 0:\n",
        "  x1 = (-b + delta ** 0.5) / (2 * a)\n",
        "  x2 = (+b - delta ** 0.5) / (2 * a)\n",
        "  print(f\"O Problema tem duas soluções: {x1:.3f} e {x2:.3f}\")\n",
        "\n",
        "elif delta < 0:\n",
        "  print(\"O Problema não tem Soluções Reais\")\n",
        "\n",
        "else:\n",
        "  x = -b / (2 * a)\n",
        "  print(f\"O Problema possui apenas uma solução: {x}\")\n",
        "          \n",
        "\n",
        "\n"
      ],
      "execution_count": null,
      "outputs": [
        {
          "output_type": "stream",
          "name": "stdout",
          "text": [
            "Digite o valor de A: 2.5\n",
            "Digite o valor de B: 2\n",
            "Digite o valor de C: 3\n",
            "o problema que você quer resolver é : 2.5x² + 2.0x + 3.0 = 0\n",
            "Delta é igual a: -26.000\n",
            "O Problema não tem Soluções Reais\n"
          ]
        }
      ]
    },
    {
      "cell_type": "code",
      "metadata": {
        "colab": {
          "base_uri": "https://localhost:8080/"
        },
        "id": "zMnEYCqTc8gn",
        "outputId": "1dc2818b-4841-4b0a-ed17-7fcc25a0eee2"
      },
      "source": [
        "gasolina = float(input(\"Digite o Valor da Gasolina: \"))\n",
        "etanol = float(input(\"Digite o Valor do Etanol: \"))\n",
        "print(\"O valor da Gasolina é: \", gasolina)\n",
        "print(\"O valor do Etanol é: \", etanol)\n",
        "\n",
        "if etanol > gasolina * 0.7:\n",
        "  print(\"Abasteça com Gasolina \")\n",
        "else:\n",
        "  print(\"Abasteça com Etanol \")"
      ],
      "execution_count": null,
      "outputs": [
        {
          "output_type": "stream",
          "name": "stdout",
          "text": [
            "Digite o Valor da Gasolina: 6.32\n",
            "Digite o Valor do Etanol: 4.81\n",
            "O valor da Gasolina é:  6.32\n",
            "O valor do Etanol é:  4.81\n",
            "Abasteça com Gasolina \n"
          ]
        }
      ]
    }
  ]
}