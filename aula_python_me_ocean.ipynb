{
  "nbformat": 4,
  "nbformat_minor": 0,
  "metadata": {
    "colab": {
      "name": "aula python me ocean",
      "provenance": [],
      "collapsed_sections": [],
      "authorship_tag": "ABX9TyNzGC72A15jqfvKSGFQnELH",
      "include_colab_link": true
    },
    "kernelspec": {
      "name": "python3",
      "display_name": "Python 3"
    },
    "language_info": {
      "name": "python"
    }
  },
  "cells": [
    {
      "cell_type": "markdown",
      "metadata": {
        "id": "view-in-github",
        "colab_type": "text"
      },
      "source": [
        "<a href=\"https://colab.research.google.com/github/JosephAugusto/Python-Basic/blob/main/aula_python_me_ocean.ipynb\" target=\"_parent\"><img src=\"https://colab.research.google.com/assets/colab-badge.svg\" alt=\"Open In Colab\"/></a>"
      ]
    },
    {
      "cell_type": "markdown",
      "metadata": {
        "id": "2Es-gs0gtvjH"
      },
      "source": [
        "Converção de polegadas para CM\n"
      ]
    },
    {
      "cell_type": "code",
      "metadata": {
        "colab": {
          "base_uri": "https://localhost:8080/"
        },
        "id": "44TjxgeMnh7b",
        "outputId": "4c49bc5f-d286-49bb-edae-e852ea641efd"
      },
      "source": [
        "polegadas = float(input(\"Insira o valor em polegadas: \"))\n",
        "centimetros = polegadas * 2.54\n",
        "print(\"o valor convertido é : \" + str(centimetros) + \"cm\")\n"
      ],
      "execution_count": null,
      "outputs": [
        {
          "output_type": "stream",
          "name": "stdout",
          "text": [
            "Insira o valor em polegadas: 1\n",
            "o valor convertido é : 2.54cm\n"
          ]
        }
      ]
    },
    {
      "cell_type": "code",
      "metadata": {
        "colab": {
          "base_uri": "https://localhost:8080/"
        },
        "id": "c-YqiLatulNQ",
        "outputId": "8d917a0e-e463-4a4b-8ceb-286a3d5ac568"
      },
      "source": [
        "polegadas = float(input(\"Digite a medida em polegadas: \"))\n",
        "centimetros = polegadas * 2.54\n",
        "print(str(polegadas) + \" em centimetros são: \"+ str(centimetros)) "
      ],
      "execution_count": null,
      "outputs": [
        {
          "output_type": "stream",
          "name": "stdout",
          "text": [
            "Digite a medida em polegadas: 1\n",
            "1.0 em centimetros são: 2.54\n"
          ]
        }
      ]
    },
    {
      "cell_type": "markdown",
      "metadata": {
        "id": "1KN-DfRhzXOh"
      },
      "source": [
        "usei a formatação f no inicio da string para ler a variavel polegadas e centimetros dentro da string. e usei polegadas: .2f para na hora da converção mostrar apenas duas casas decimais depois do ponto(vírgula).\n"
      ]
    },
    {
      "cell_type": "code",
      "metadata": {
        "colab": {
          "base_uri": "https://localhost:8080/"
        },
        "id": "qi0Pq9osxD5q",
        "outputId": "99d7413d-fd37-48e5-fccf-9e53375afb2f"
      },
      "source": [
        "polegadas = float(input(\"Digite a medida em polegadas: \"))\n",
        "centimetros = polegadas * 2.54\n",
        "print(f\"A conversação de {polegadas:.2f} polegadas para centimetros, são {centimetros:.2f} centimetros\")"
      ],
      "execution_count": null,
      "outputs": [
        {
          "output_type": "stream",
          "name": "stdout",
          "text": [
            "Digite a medida em polegadas: 4.25689\n",
            "A conversação de 4.26 polegadas para centimetros, são 10.81 centimetros\n"
          ]
        }
      ]
    },
    {
      "cell_type": "code",
      "metadata": {
        "colab": {
          "base_uri": "https://localhost:8080/"
        },
        "id": "-AIggBV-7V5r",
        "outputId": "ebfeae80-3e5e-4acd-c677-248b7b8dc4db"
      },
      "source": [
        "print(\"@ > a\", \"@\" > \"a\")\n"
      ],
      "execution_count": null,
      "outputs": [
        {
          "output_type": "stream",
          "name": "stdout",
          "text": [
            "@ > a False\n"
          ]
        }
      ]
    },
    {
      "cell_type": "code",
      "metadata": {
        "colab": {
          "base_uri": "https://localhost:8080/"
        },
        "id": "JoSUyRE3zBxA",
        "outputId": "bc6b3118-03f3-4c8b-f002-de60ec70f8fa"
      },
      "source": [
        "comando = input(\"digite 'p' para converter de polegadas para centimetros e 'c' para o contrário: \")\n",
        "if comando == 'p':\n",
        "   polegadas = float(input(\"Digite a medida em polegadas: \"))\n",
        "   centimetros = polegadas * 2.54\n",
        "   print(f\"A conversão deu {centimetros:.3f} centimetros\")\n",
        " \n",
        "else:\n",
        "   if comando == 'c':\n",
        "    centimetros = float(input(\"Digite a medida em centimetros: \"))\n",
        "    polegadas = centimetros / 2.54\n",
        "    print(f'A conversão deu {polegadas:.3f} polegadas')\n",
        "   else:\n",
        "      print (\"Comando inválido!\")"
      ],
      "execution_count": 3,
      "outputs": [
        {
          "output_type": "stream",
          "name": "stdout",
          "text": [
            "digite 'p' para converter de polegadas para centimetros e 'c' para o contrário: c\n",
            "Digite a medida em centimetros: 1\n",
            "A conversão deu 0.394 polegadas\n"
          ]
        }
      ]
    },
    {
      "cell_type": "code",
      "metadata": {
        "colab": {
          "base_uri": "https://localhost:8080/"
        },
        "id": "Dgyfk-JfIihS",
        "outputId": "9cb98799-7b7d-48dd-f7ac-01c58a2b0416"
      },
      "source": [
        "print(True and True)\n",
        "print(False and True)\n",
        "print(True and False)\n",
        "print(False and False)"
      ],
      "execution_count": null,
      "outputs": [
        {
          "output_type": "stream",
          "name": "stdout",
          "text": [
            "True\n",
            "False\n",
            "False\n",
            "False\n"
          ]
        }
      ]
    },
    {
      "cell_type": "code",
      "metadata": {
        "colab": {
          "base_uri": "https://localhost:8080/"
        },
        "id": "HQvzq19oJEqd",
        "outputId": "fa0cbeda-b932-48aa-ffbf-1c6f96cc7629"
      },
      "source": [
        "print(True or True)\n",
        "print(False or True)\n",
        "print(True or False)\n",
        "print(False or False)"
      ],
      "execution_count": null,
      "outputs": [
        {
          "output_type": "stream",
          "name": "stdout",
          "text": [
            "True\n",
            "True\n",
            "True\n",
            "False\n"
          ]
        }
      ]
    },
    {
      "cell_type": "code",
      "metadata": {
        "colab": {
          "base_uri": "https://localhost:8080/"
        },
        "id": "CS4HgLr9JMCV",
        "outputId": "2d2224e3-487b-4bd1-ffc7-662254d45d1b"
      },
      "source": [
        "not 2 == 3"
      ],
      "execution_count": null,
      "outputs": [
        {
          "output_type": "execute_result",
          "data": {
            "text/plain": [
              "True"
            ]
          },
          "metadata": {},
          "execution_count": 38
        }
      ]
    },
    {
      "cell_type": "code",
      "metadata": {
        "colab": {
          "base_uri": "https://localhost:8080/"
        },
        "id": "yilh5hwpJ1e5",
        "outputId": "b03bc201-28be-44c6-9284-0491c4c8d96b"
      },
      "source": [
        "print(not False)\n",
        "print(not True)"
      ],
      "execution_count": null,
      "outputs": [
        {
          "output_type": "stream",
          "name": "stdout",
          "text": [
            "True\n",
            "False\n"
          ]
        }
      ]
    },
    {
      "cell_type": "code",
      "metadata": {
        "id": "x3hYGnm-J9Cq"
      },
      "source": [
        ""
      ],
      "execution_count": null,
      "outputs": []
    }
  ]
}