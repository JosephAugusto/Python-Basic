{
  "nbformat": 4,
  "nbformat_minor": 0,
  "metadata": {
    "colab": {
      "name": "Teste da aula python.ipynb",
      "provenance": [],
      "collapsed_sections": [],
      "authorship_tag": "ABX9TyMYkiBkHrX7tlaXjPRpPQpN",
      "include_colab_link": true
    },
    "kernelspec": {
      "name": "python3",
      "display_name": "Python 3"
    },
    "language_info": {
      "name": "python"
    }
  },
  "cells": [
    {
      "cell_type": "markdown",
      "metadata": {
        "id": "view-in-github",
        "colab_type": "text"
      },
      "source": [
        "<a href=\"https://colab.research.google.com/github/JosephAugusto/Python-Basic/blob/main/Teste_da_aula_python.ipynb\" target=\"_parent\"><img src=\"https://colab.research.google.com/assets/colab-badge.svg\" alt=\"Open In Colab\"/></a>"
      ]
    },
    {
      "cell_type": "markdown",
      "metadata": {
        "id": "6o3hcs_hSBqR"
      },
      "source": [
        "## Escreva uma sequência de operações em python que converta uma medida em polegadas para centimentros -> 1pol = 2.54cm"
      ]
    },
    {
      "cell_type": "code",
      "metadata": {
        "colab": {
          "base_uri": "https://localhost:8080/"
        },
        "id": "QHAkJDKMSKVc",
        "outputId": "f02816b5-cf2e-4473-8339-b2e4df1469ea"
      },
      "source": [
        "polegadas = float(input(\"Digite a medida em polegadas: \"))\n",
        "centimetros = polegadas * 2.54\n",
        "print(\"A conversão deu\", centimetros, \"centimetros\")\n",
        "\n"
      ],
      "execution_count": null,
      "outputs": [
        {
          "output_type": "stream",
          "name": "stdout",
          "text": [
            "Digite a medida em polegadas: 1\n",
            "A conversão deu 2.54 centimetros\n"
          ]
        }
      ]
    },
    {
      "cell_type": "markdown",
      "metadata": {
        "id": "9ZSM7qkPUOkk"
      },
      "source": [
        "Escreva uma sequência de operações em python que converta um valor em real para dólar -> 1 dol = 5.45 real\n"
      ]
    },
    {
      "cell_type": "code",
      "metadata": {
        "colab": {
          "base_uri": "https://localhost:8080/"
        },
        "id": "FtbenQLGUG87",
        "outputId": "ef1ef308-99ab-46b9-f3e5-66c1ebb2849c"
      },
      "source": [
        "real = float(input(\"digite o valor em R$ \"))\n",
        "dolar = real / 5.45\n",
        "print(\"A conversão para Dólar é:\",dolar)\n"
      ],
      "execution_count": null,
      "outputs": [
        {
          "output_type": "stream",
          "name": "stdout",
          "text": [
            "digite o valor em R$ 100\n",
            "A conversão para Dólar é: 18.34862385321101\n"
          ]
        }
      ]
    },
    {
      "cell_type": "markdown",
      "metadata": {
        "id": "cmzR0wJgVSTd"
      },
      "source": [
        "Escreva uma sequência de operações em python que converta um valor em dólar para real\n"
      ]
    },
    {
      "cell_type": "code",
      "metadata": {
        "colab": {
          "base_uri": "https://localhost:8080/"
        },
        "id": "wO5UBfU5VOIa",
        "outputId": "b46fd78b-0dfb-4dff-8b6c-86ec40675a7c"
      },
      "source": [
        "dolar = float(input(\"Digite o valor em $: \"))\n",
        "real = dolar * 5.45\n",
        "print(\"A conversão para real é:\", real)"
      ],
      "execution_count": null,
      "outputs": [
        {
          "output_type": "stream",
          "name": "stdout",
          "text": [
            "Digite o valor em $: 1000\n",
            "A conversão para real é: 5450.0\n"
          ]
        }
      ]
    },
    {
      "cell_type": "markdown",
      "metadata": {
        "id": "cEIvfzEOYFQG"
      },
      "source": [
        "# Exercicio Conversão de Celsius para Farenheit\n",
        "###  C * 9/5  + 32 = F "
      ]
    },
    {
      "cell_type": "code",
      "metadata": {
        "colab": {
          "base_uri": "https://localhost:8080/"
        },
        "id": "-rcYAYIZYEYt",
        "outputId": "d0247976-1135-449d-dd48-65f6634143c7"
      },
      "source": [
        "celsius = float(input(\"Digite o valor em Celsius: \"))\n",
        "farenheit = celsius * (9 / 5) + 32\n",
        "print(\"O valor em Farenheit é: \",farenheit)"
      ],
      "execution_count": null,
      "outputs": [
        {
          "output_type": "stream",
          "name": "stdout",
          "text": [
            "Digite o valor em Celsius: 26\n",
            "O valor em Farenheit é:  78.80000000000001\n"
          ]
        }
      ]
    },
    {
      "cell_type": "markdown",
      "metadata": {
        "id": "cKijXryAaX6u"
      },
      "source": [
        " Exercício de conversão de Farenheit para Celsius \n",
        " (F - 32) * (5 / 9)"
      ]
    },
    {
      "cell_type": "code",
      "metadata": {
        "colab": {
          "base_uri": "https://localhost:8080/"
        },
        "id": "VO4AUQgbaXRW",
        "outputId": "6db1f684-b7d4-423c-ce50-47e47bbac6cb"
      },
      "source": [
        "farenheit = float(input(\"Digite o valor em Farenheit: \"))\n",
        "celsius = (farenheit - 32) * (5 / 9)\n",
        "print(\"o Valor em Celsius é: \",celsius)"
      ],
      "execution_count": null,
      "outputs": [
        {
          "output_type": "stream",
          "name": "stdout",
          "text": [
            "Digite o valor em Farenheit: 30\n",
            "o Valor em Celsius é:  -1.1111111111111112\n"
          ]
        }
      ]
    }
  ]
}