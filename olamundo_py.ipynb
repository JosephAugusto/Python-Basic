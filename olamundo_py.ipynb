{
  "nbformat": 4,
  "nbformat_minor": 0,
  "metadata": {
    "colab": {
      "name": "olamundo.py",
      "provenance": [],
      "collapsed_sections": [],
      "authorship_tag": "ABX9TyOaQ8LxrlyyjOkPgmJsEYlM",
      "include_colab_link": true
    },
    "kernelspec": {
      "name": "python3",
      "display_name": "Python 3"
    },
    "language_info": {
      "name": "python"
    }
  },
  "cells": [
    {
      "cell_type": "markdown",
      "metadata": {
        "id": "view-in-github",
        "colab_type": "text"
      },
      "source": [
        "<a href=\"https://colab.research.google.com/github/JosephAugusto/Python-Basic/blob/main/olamundo_py.ipynb\" target=\"_parent\"><img src=\"https://colab.research.google.com/assets/colab-badge.svg\" alt=\"Open In Colab\"/></a>"
      ]
    },
    {
      "cell_type": "code",
      "metadata": {
        "id": "SjW2M15y5qAh",
        "colab": {
          "base_uri": "https://localhost:8080/"
        },
        "outputId": "b1ef417d-f9c1-4e9d-8eb8-f19c38040ba0"
      },
      "source": [
        "print ('hello, world')"
      ],
      "execution_count": null,
      "outputs": [
        {
          "output_type": "stream",
          "name": "stdout",
          "text": [
            "hello, world\n"
          ]
        }
      ]
    },
    {
      "cell_type": "code",
      "metadata": {
        "colab": {
          "base_uri": "https://localhost:8080/"
        },
        "id": "5lJs4BTN7hRH",
        "outputId": "a3e09b1e-a27f-4c8e-9387-f7fdda8a0523"
      },
      "source": [
        "print (\"Olá, mundo\")"
      ],
      "execution_count": null,
      "outputs": [
        {
          "output_type": "stream",
          "name": "stdout",
          "text": [
            "Olá, mundo\n"
          ]
        }
      ]
    },
    {
      "cell_type": "code",
      "metadata": {
        "colab": {
          "base_uri": "https://localhost:8080/"
        },
        "id": "1Op2bToK8xy0",
        "outputId": "16a53690-f80f-4174-b139-bdb4ef9ae257"
      },
      "source": [
        "print ('Python')\n",
        "print ('Progressivo')\n"
      ],
      "execution_count": null,
      "outputs": [
        {
          "output_type": "stream",
          "name": "stdout",
          "text": [
            "Python\n",
            "Progressivo\n"
          ]
        }
      ]
    },
    {
      "cell_type": "code",
      "metadata": {
        "colab": {
          "base_uri": "https://localhost:8080/"
        },
        "id": "JXKB3PG69I68",
        "outputId": "1146b55f-b65e-4294-b345-ecd6865c1c57"
      },
      "source": [
        "print ('Curso')\n",
        "print ('Python')\n",
        "print ('Progressivo')"
      ],
      "execution_count": null,
      "outputs": [
        {
          "output_type": "stream",
          "name": "stdout",
          "text": [
            "Curso\n",
            "Python\n",
            "Progressivo\n"
          ]
        }
      ]
    },
    {
      "cell_type": "code",
      "metadata": {
        "colab": {
          "base_uri": "https://localhost:8080/"
        },
        "id": "lMcA55Py93Oe",
        "outputId": "c64f3ba7-f63c-43b9-9c0c-bce69cf598d8"
      },
      "source": [
        "print ('Curso \"Python\" Progressive')"
      ],
      "execution_count": null,
      "outputs": [
        {
          "output_type": "stream",
          "name": "stdout",
          "text": [
            "Curso \"Python\" Progressive\n"
          ]
        }
      ]
    },
    {
      "cell_type": "code",
      "metadata": {
        "colab": {
          "base_uri": "https://localhost:8080/"
        },
        "id": "HVPs30He-Mxy",
        "outputId": "6de5c3b6-99ab-4e19-8a5a-436e52ac93ec"
      },
      "source": [
        "print (\"Curso 'Python' Progressive\")"
      ],
      "execution_count": null,
      "outputs": [
        {
          "output_type": "stream",
          "name": "stdout",
          "text": [
            "Curso 'Python' Progressive\n"
          ]
        }
      ]
    },
    {
      "cell_type": "code",
      "metadata": {
        "colab": {
          "base_uri": "https://localhost:8080/"
        },
        "id": "OLKWgehs-8wz",
        "outputId": "bb787258-5358-4a1f-dcbb-575ce925ec44"
      },
      "source": [
        "print ('O Primeiro Programa a gente Nunca Esquece')"
      ],
      "execution_count": null,
      "outputs": [
        {
          "output_type": "stream",
          "name": "stdout",
          "text": [
            "O Primeiro Programa a gente Nunca Esquece\n"
          ]
        }
      ]
    },
    {
      "cell_type": "code",
      "metadata": {
        "colab": {
          "base_uri": "https://localhost:8080/"
        },
        "id": "AiI99rIo_Kz8",
        "outputId": "52380165-3e47-465a-cf8b-29e6a8e69335"
      },
      "source": [
        "print ('Joseph Augusto')\n",
        "print ('Rua Adalberto')\n",
        "print ('22980-000')"
      ],
      "execution_count": null,
      "outputs": [
        {
          "output_type": "stream",
          "name": "stdout",
          "text": [
            "Joseph Augusto\n",
            "Rua Adalberto\n",
            "22980-000\n"
          ]
        }
      ]
    },
    {
      "cell_type": "code",
      "metadata": {
        "colab": {
          "base_uri": "https://localhost:8080/"
        },
        "id": "A7rfdkvqAiSo",
        "outputId": "4c434d25-2108-4c02-daa8-02f7a43411fd"
      },
      "source": [
        "print ('xxxxxxx')\n",
        "print ('x     x')\n",
        "print ('x     x')\n",
        "print ('x     x')\n",
        "print ('xxxxxxx')"
      ],
      "execution_count": null,
      "outputs": [
        {
          "output_type": "stream",
          "name": "stdout",
          "text": [
            "xxxxxxx\n",
            "x     x\n",
            "x     x\n",
            "x     x\n",
            "xxxxxxx\n"
          ]
        }
      ]
    },
    {
      "cell_type": "code",
      "metadata": {
        "colab": {
          "base_uri": "https://localhost:8080/"
        },
        "id": "_n3Km2gx_uQc",
        "outputId": "fea0f46c-0436-4c28-b249-226377e4f93b"
      },
      "source": [
        "print ('Ta vendo aquela Lua')\n",
        "print ('Exalta Samba')\n",
        "print ('ta vendo aquela lua que brilha ali no céu, se você me pedir eu vou buscar só pra te dar')"
      ],
      "execution_count": null,
      "outputs": [
        {
          "output_type": "stream",
          "name": "stdout",
          "text": [
            "Ta vendo aquela Lua\n",
            "Exalta Samba\n",
            "ta vendo aquela lua que brilha ali no céu, se você me pedir eu vou buscar só pra te dar\n"
          ]
        }
      ]
    },
    {
      "cell_type": "code",
      "metadata": {
        "colab": {
          "base_uri": "https://localhost:8080/"
        },
        "id": "m41Y7WzyBB39",
        "outputId": "fb9aa9f0-3cb5-49d8-e400-4bebc472c9f2"
      },
      "source": [
        "print ('Aluno(a)         Nota')\n",
        "print ('Aline             9.0')\n",
        "print ('Mario             Dez')\n",
        "print ('Sérgio            4.5')\n",
        "print ('Shirley           7.0')"
      ],
      "execution_count": null,
      "outputs": [
        {
          "output_type": "stream",
          "name": "stdout",
          "text": [
            "Aluno(a)         Nota\n",
            "Aline             9.0\n",
            "Mario             Dez\n",
            "Sérgio            4.5\n",
            "Shirley           7.0\n"
          ]
        }
      ]
    },
    {
      "cell_type": "code",
      "metadata": {
        "colab": {
          "base_uri": "https://localhost:8080/"
        },
        "id": "ek5te4StByZD",
        "outputId": "c9fb6cad-c98b-4ca4-87f2-bcceb730906a"
      },
      "source": [
        "print ('PPPPPPP')\n",
        "print ('P     P')\n",
        "print ('PPPPPPP')\n",
        "print ('P')\n",
        "print ('P')\n",
        "print ('P')"
      ],
      "execution_count": null,
      "outputs": [
        {
          "output_type": "stream",
          "name": "stdout",
          "text": [
            "PPPPPPP\n",
            "P     P\n",
            "PPPPPPP\n",
            "P\n",
            "P\n",
            "P\n"
          ]
        }
      ]
    },
    {
      "cell_type": "code",
      "metadata": {
        "colab": {
          "base_uri": "https://localhost:8080/"
        },
        "id": "CJM-QglQGn03",
        "outputId": "48601a6a-c67e-4055-9f05-9b0f882b7bd8"
      },
      "source": [
        "print (\"Cadastro de Clientes\")\n",
        "print ( '0-Fim')\n",
        "print ('1-Inclui')\n",
        "print ('2-Altera')\n",
        "print ('3-Exclui')\n",
        "print ('4-Consulta')\n",
        "print ('Opcção:')"
      ],
      "execution_count": null,
      "outputs": [
        {
          "output_type": "stream",
          "name": "stdout",
          "text": [
            "Cadastro de Clientes\n",
            "0-Fim\n",
            "1-Inclui\n",
            "2-Altera\n",
            "3-Exclui\n",
            "4-Consulta\n",
            "Opcção:\n"
          ]
        }
      ]
    },
    {
      "cell_type": "code",
      "metadata": {
        "colab": {
          "base_uri": "https://localhost:8080/"
        },
        "id": "2dRv-KM-L77F",
        "outputId": "e5feae05-7193-4730-99cb-9626905f989c"
      },
      "source": [
        ">>> 1 + 1 \n",
        ">>> 3 - 5\n",
        ">>> 21 * 12"
      ],
      "execution_count": null,
      "outputs": [
        {
          "output_type": "execute_result",
          "data": {
            "text/plain": [
              "252"
            ]
          },
          "metadata": {},
          "execution_count": 31
        }
      ]
    },
    {
      "cell_type": "code",
      "metadata": {
        "colab": {
          "base_uri": "https://localhost:8080/"
        },
        "id": "wIPivD3cN9vl",
        "outputId": "62e187d6-35af-49cd-d471-23c2b0ae3f07"
      },
      "source": [
        ">>> 1 + 1.1\n",
        ">>> 1.1 + 1.1\n",
        ">>> 21,12 + 21,12"
      ],
      "execution_count": null,
      "outputs": [
        {
          "output_type": "execute_result",
          "data": {
            "text/plain": [
              "(21, 33, 12)"
            ]
          },
          "metadata": {},
          "execution_count": 36
        }
      ]
    },
    {
      "cell_type": "code",
      "metadata": {
        "colab": {
          "base_uri": "https://localhost:8080/",
          "height": 35
        },
        "id": "wsk6rprLOpU6",
        "outputId": "35e01902-896a-46ed-f679-340c8b56b247"
      },
      "source": [
        "bin(25)"
      ],
      "execution_count": null,
      "outputs": [
        {
          "output_type": "execute_result",
          "data": {
            "application/vnd.google.colaboratory.intrinsic+json": {
              "type": "string"
            },
            "text/plain": [
              "'0b11001'"
            ]
          },
          "metadata": {},
          "execution_count": 40
        }
      ]
    },
    {
      "cell_type": "code",
      "metadata": {
        "colab": {
          "base_uri": "https://localhost:8080/",
          "height": 35
        },
        "id": "hVNCrcSiPmXK",
        "outputId": "070a3c5d-f248-4a0e-af26-b09825d424e3"
      },
      "source": [
        "oct(25)"
      ],
      "execution_count": null,
      "outputs": [
        {
          "output_type": "execute_result",
          "data": {
            "application/vnd.google.colaboratory.intrinsic+json": {
              "type": "string"
            },
            "text/plain": [
              "'0o31'"
            ]
          },
          "metadata": {},
          "execution_count": 41
        }
      ]
    },
    {
      "cell_type": "code",
      "metadata": {
        "colab": {
          "base_uri": "https://localhost:8080/",
          "height": 35
        },
        "id": "9ytZ3GACPq_s",
        "outputId": "61fadd8d-7501-41c1-f31b-471363241094"
      },
      "source": [
        "hex(25)"
      ],
      "execution_count": null,
      "outputs": [
        {
          "output_type": "execute_result",
          "data": {
            "application/vnd.google.colaboratory.intrinsic+json": {
              "type": "string"
            },
            "text/plain": [
              "'0x19'"
            ]
          },
          "metadata": {},
          "execution_count": 42
        }
      ]
    },
    {
      "cell_type": "code",
      "metadata": {
        "colab": {
          "base_uri": "https://localhost:8080/"
        },
        "id": "yrZYuoWdO_qf",
        "outputId": "bb894c4e-1071-4ea5-f05f-1f05ce02cac0"
      },
      "source": [
        ">>> 0b10\n",
        ">>> 0o21\n",
        ">>> 0x12"
      ],
      "execution_count": null,
      "outputs": [
        {
          "output_type": "execute_result",
          "data": {
            "text/plain": [
              "18"
            ]
          },
          "metadata": {},
          "execution_count": 39
        }
      ]
    },
    {
      "cell_type": "code",
      "metadata": {
        "colab": {
          "base_uri": "https://localhost:8080/"
        },
        "id": "tq_tbPqcQI4b",
        "outputId": "e2f52bb3-c3fe-45b0-f046-81de32b4d965"
      },
      "source": [
        "(1 + 2j)+ (3 + 4j)"
      ],
      "execution_count": null,
      "outputs": [
        {
          "output_type": "execute_result",
          "data": {
            "text/plain": [
              "(4+6j)"
            ]
          },
          "metadata": {},
          "execution_count": 43
        }
      ]
    },
    {
      "cell_type": "code",
      "metadata": {
        "colab": {
          "base_uri": "https://localhost:8080/"
        },
        "id": "m9J15ChVSACf",
        "outputId": "5196640e-3d67-43b2-ee84-64debe676f49"
      },
      "source": [
        "1 > 2"
      ],
      "execution_count": null,
      "outputs": [
        {
          "output_type": "execute_result",
          "data": {
            "text/plain": [
              "False"
            ]
          },
          "metadata": {},
          "execution_count": 46
        }
      ]
    },
    {
      "cell_type": "code",
      "metadata": {
        "colab": {
          "base_uri": "https://localhost:8080/"
        },
        "id": "fOhODfYkSC4R",
        "outputId": "3caefdaf-7190-46b8-9b0c-58e85c30bebf"
      },
      "source": [
        "3 > 2"
      ],
      "execution_count": null,
      "outputs": [
        {
          "output_type": "execute_result",
          "data": {
            "text/plain": [
              "True"
            ]
          },
          "metadata": {},
          "execution_count": 47
        }
      ]
    },
    {
      "cell_type": "code",
      "metadata": {
        "id": "fzSUXTlFLIGF"
      },
      "source": [
        "print ('Joseph Augusto')"
      ],
      "execution_count": null,
      "outputs": []
    }
  ]
}